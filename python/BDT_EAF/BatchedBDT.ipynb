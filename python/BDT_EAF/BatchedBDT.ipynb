{
 "cells": [
  {
   "cell_type": "code",
   "execution_count": 1,
   "id": "76188bd9-b306-491e-ad9d-dafa2291e318",
   "metadata": {},
   "outputs": [],
   "source": [
    "import xgboost as xgb\n",
    "import numpy as np\n",
    "import pandas as pd\n",
    "import matplotlib.pyplot as plt\n",
    "import json\n",
    "import pyarrow.parquet as pq\n",
    "from tqdm import tqdm\n",
    "import os\n"
   ]
  },
  {
   "cell_type": "code",
   "execution_count": null,
   "id": "7ce17aeb-bc17-4758-b145-41775bd55abf",
   "metadata": {},
   "outputs": [],
   "source": [
    "model = xgb.XGBClassifier(\n",
    "    n_estimators=100,  # number of boosting rounds (i.e. number of decision trees)\n",
    "    max_depth=3,  # max depth of each decision tree\n",
    "    learning_rate=0.1,\n",
    "    early_stopping_rounds=20,  # how many rounds to wait to see if the loss is going down\n",
    ")"
   ]
  },
  {
   "cell_type": "code",
   "execution_count": null,
   "id": "24c473f2-6d29-4e38-b5fd-db6e63c9dd6d",
   "metadata": {},
   "outputs": [],
   "source": [
    "omit_cols = ['isSignal', 'weight', 'weight_noxsec','category']\n",
    "\n",
    "trained_model = model.fit(\n",
    "    X_train.drop(omit_cols, axis=1), #data should not include label column OR weights\n",
    "    X_train['isSignal'], #labels\n",
    "    eval_set=[(X_train.drop(omit_cols, axis=1), X_train['isSignal']), \n",
    "              (X_test.drop(omit_cols, axis=1), X_test['isSignal'])],  # sets for which to save the loss\n",
    "    verbose=True,\n",
    ")\n"
   ]
  }
 ],
 "metadata": {
  "kernelspec": {
   "display_name": "Python [conda env:.conda-myenv]",
   "language": "python",
   "name": "conda-env-.conda-myenv-py"
  },
  "language_info": {
   "codemirror_mode": {
    "name": "ipython",
    "version": 3
   },
   "file_extension": ".py",
   "mimetype": "text/x-python",
   "name": "python",
   "nbconvert_exporter": "python",
   "pygments_lexer": "ipython3",
   "version": "3.9.15"
  }
 },
 "nbformat": 4,
 "nbformat_minor": 5
}
